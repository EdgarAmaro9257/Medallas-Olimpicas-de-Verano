{
 "cells": [
  {
   "cell_type": "code",
   "execution_count": 43,
   "metadata": {},
   "outputs": [],
   "source": [
    "# Importando Bibliotecas\n",
    "import pandas as pd\n",
    "from sklearn.model_selection import train_test_split\n",
    "from sklearn.tree import DecisionTreeClassifier\n",
    "from sklearn.metrics import accuracy_score, confusion_matrix, classification_report\n",
    "import matplotlib.pyplot as plt\n",
    "import seaborn as sns\n",
    "from sklearn.preprocessing import LabelEncoder\n",
    "import os"
   ]
  },
  {
   "cell_type": "code",
   "execution_count": 60,
   "metadata": {},
   "outputs": [],
   "source": [
    "# 2. Crear el directorio del proyecto (carpeta para guardar análisis)\n",
    "project_dir = 'results'\n",
    "if not os.path.exists(project_dir):\n",
    "    os.makedirs(project_dir)"
   ]
  },
  {
   "cell_type": "code",
   "execution_count": 61,
   "metadata": {},
   "outputs": [
    {
     "data": {
      "text/html": [
       "<div>\n",
       "<style scoped>\n",
       "    .dataframe tbody tr th:only-of-type {\n",
       "        vertical-align: middle;\n",
       "    }\n",
       "\n",
       "    .dataframe tbody tr th {\n",
       "        vertical-align: top;\n",
       "    }\n",
       "\n",
       "    .dataframe thead th {\n",
       "        text-align: right;\n",
       "    }\n",
       "</style>\n",
       "<table border=\"1\" class=\"dataframe\">\n",
       "  <thead>\n",
       "    <tr style=\"text-align: right;\">\n",
       "      <th></th>\n",
       "      <th>player_id</th>\n",
       "      <th>Name</th>\n",
       "      <th>Sex</th>\n",
       "      <th>Team</th>\n",
       "      <th>NOC</th>\n",
       "      <th>Year</th>\n",
       "      <th>Season</th>\n",
       "      <th>City</th>\n",
       "      <th>Sport</th>\n",
       "      <th>Event</th>\n",
       "      <th>Medal</th>\n",
       "    </tr>\n",
       "  </thead>\n",
       "  <tbody>\n",
       "    <tr>\n",
       "      <th>0</th>\n",
       "      <td>0</td>\n",
       "      <td>A Dijiang</td>\n",
       "      <td>M</td>\n",
       "      <td>China</td>\n",
       "      <td>CHN</td>\n",
       "      <td>1992</td>\n",
       "      <td>Summer</td>\n",
       "      <td>Barcelona</td>\n",
       "      <td>Basketball</td>\n",
       "      <td>Basketball Men's Basketball</td>\n",
       "      <td>No medal</td>\n",
       "    </tr>\n",
       "    <tr>\n",
       "      <th>1</th>\n",
       "      <td>1</td>\n",
       "      <td>A Lamusi</td>\n",
       "      <td>M</td>\n",
       "      <td>China</td>\n",
       "      <td>CHN</td>\n",
       "      <td>2012</td>\n",
       "      <td>Summer</td>\n",
       "      <td>London</td>\n",
       "      <td>Judo</td>\n",
       "      <td>Judo Men's Extra-Lightweight</td>\n",
       "      <td>No medal</td>\n",
       "    </tr>\n",
       "    <tr>\n",
       "      <th>2</th>\n",
       "      <td>2</td>\n",
       "      <td>Gunnar Aaby</td>\n",
       "      <td>M</td>\n",
       "      <td>Denmark</td>\n",
       "      <td>DEN</td>\n",
       "      <td>1920</td>\n",
       "      <td>Summer</td>\n",
       "      <td>Antwerpen</td>\n",
       "      <td>Football</td>\n",
       "      <td>Football Men's Football</td>\n",
       "      <td>No medal</td>\n",
       "    </tr>\n",
       "    <tr>\n",
       "      <th>3</th>\n",
       "      <td>3</td>\n",
       "      <td>Edgar Aabye</td>\n",
       "      <td>M</td>\n",
       "      <td>Denmark/Sweden</td>\n",
       "      <td>DEN</td>\n",
       "      <td>1900</td>\n",
       "      <td>Summer</td>\n",
       "      <td>Paris</td>\n",
       "      <td>Tug-Of-War</td>\n",
       "      <td>Tug-Of-War Men's Tug-Of-War</td>\n",
       "      <td>Gold</td>\n",
       "    </tr>\n",
       "    <tr>\n",
       "      <th>4</th>\n",
       "      <td>26</td>\n",
       "      <td>Cornelia (-strannood)</td>\n",
       "      <td>F</td>\n",
       "      <td>Netherlands</td>\n",
       "      <td>NED</td>\n",
       "      <td>1932</td>\n",
       "      <td>Summer</td>\n",
       "      <td>Los Angeles</td>\n",
       "      <td>Athletics</td>\n",
       "      <td>Athletics Women's 100 metres</td>\n",
       "      <td>No medal</td>\n",
       "    </tr>\n",
       "    <tr>\n",
       "      <th>...</th>\n",
       "      <td>...</td>\n",
       "      <td>...</td>\n",
       "      <td>...</td>\n",
       "      <td>...</td>\n",
       "      <td>...</td>\n",
       "      <td>...</td>\n",
       "      <td>...</td>\n",
       "      <td>...</td>\n",
       "      <td>...</td>\n",
       "      <td>...</td>\n",
       "      <td>...</td>\n",
       "    </tr>\n",
       "    <tr>\n",
       "      <th>252560</th>\n",
       "      <td>4986655</td>\n",
       "      <td>Sefora Ada</td>\n",
       "      <td>F</td>\n",
       "      <td>Equatorial Guinea</td>\n",
       "      <td>GEQ</td>\n",
       "      <td>2024</td>\n",
       "      <td>Summer</td>\n",
       "      <td>Paris</td>\n",
       "      <td>Athletics</td>\n",
       "      <td>Women's 100m</td>\n",
       "      <td>No medal</td>\n",
       "    </tr>\n",
       "    <tr>\n",
       "      <th>252561</th>\n",
       "      <td>9460001</td>\n",
       "      <td>Emanuela Liuzzi</td>\n",
       "      <td>F</td>\n",
       "      <td>Italy</td>\n",
       "      <td>ITA</td>\n",
       "      <td>2024</td>\n",
       "      <td>Summer</td>\n",
       "      <td>Paris</td>\n",
       "      <td>Wrestling</td>\n",
       "      <td>Women's Freestyle 50kg</td>\n",
       "      <td>No medal</td>\n",
       "    </tr>\n",
       "    <tr>\n",
       "      <th>252562</th>\n",
       "      <td>1972077</td>\n",
       "      <td>Isayah Boers</td>\n",
       "      <td>M</td>\n",
       "      <td>Netherlands</td>\n",
       "      <td>NED</td>\n",
       "      <td>2024</td>\n",
       "      <td>Summer</td>\n",
       "      <td>Paris</td>\n",
       "      <td>Athletics</td>\n",
       "      <td>4 x 400m Relay Mixed</td>\n",
       "      <td>Gold</td>\n",
       "    </tr>\n",
       "    <tr>\n",
       "      <th>252563</th>\n",
       "      <td>1899865</td>\n",
       "      <td>Kevin Staut</td>\n",
       "      <td>M</td>\n",
       "      <td>France</td>\n",
       "      <td>FRA</td>\n",
       "      <td>2024</td>\n",
       "      <td>Summer</td>\n",
       "      <td>Paris</td>\n",
       "      <td>Equestrian</td>\n",
       "      <td>Jumping Team</td>\n",
       "      <td>Bronze</td>\n",
       "    </tr>\n",
       "    <tr>\n",
       "      <th>252564</th>\n",
       "      <td>1924402</td>\n",
       "      <td>Charlie Carvell</td>\n",
       "      <td>M</td>\n",
       "      <td>Great Britain</td>\n",
       "      <td>GBR</td>\n",
       "      <td>2024</td>\n",
       "      <td>Summer</td>\n",
       "      <td>Paris</td>\n",
       "      <td>Athletics</td>\n",
       "      <td>Men's 4 x 400m Relay</td>\n",
       "      <td>Bronze</td>\n",
       "    </tr>\n",
       "  </tbody>\n",
       "</table>\n",
       "<p>252565 rows × 11 columns</p>\n",
       "</div>"
      ],
      "text/plain": [
       "        player_id                   Name Sex               Team  NOC  Year  \\\n",
       "0               0              A Dijiang   M              China  CHN  1992   \n",
       "1               1               A Lamusi   M              China  CHN  2012   \n",
       "2               2            Gunnar Aaby   M            Denmark  DEN  1920   \n",
       "3               3            Edgar Aabye   M     Denmark/Sweden  DEN  1900   \n",
       "4              26  Cornelia (-strannood)   F        Netherlands  NED  1932   \n",
       "...           ...                    ...  ..                ...  ...   ...   \n",
       "252560    4986655             Sefora Ada   F  Equatorial Guinea  GEQ  2024   \n",
       "252561    9460001        Emanuela Liuzzi   F              Italy  ITA  2024   \n",
       "252562    1972077           Isayah Boers   M        Netherlands  NED  2024   \n",
       "252563    1899865            Kevin Staut   M             France  FRA  2024   \n",
       "252564    1924402        Charlie Carvell   M      Great Britain  GBR  2024   \n",
       "\n",
       "        Season         City       Sport                         Event  \\\n",
       "0       Summer    Barcelona  Basketball   Basketball Men's Basketball   \n",
       "1       Summer       London        Judo  Judo Men's Extra-Lightweight   \n",
       "2       Summer    Antwerpen    Football       Football Men's Football   \n",
       "3       Summer        Paris  Tug-Of-War   Tug-Of-War Men's Tug-Of-War   \n",
       "4       Summer  Los Angeles   Athletics  Athletics Women's 100 metres   \n",
       "...        ...          ...         ...                           ...   \n",
       "252560  Summer        Paris   Athletics                  Women's 100m   \n",
       "252561  Summer        Paris   Wrestling        Women's Freestyle 50kg   \n",
       "252562  Summer        Paris   Athletics          4 x 400m Relay Mixed   \n",
       "252563  Summer        Paris  Equestrian                  Jumping Team   \n",
       "252564  Summer        Paris   Athletics          Men's 4 x 400m Relay   \n",
       "\n",
       "           Medal  \n",
       "0       No medal  \n",
       "1       No medal  \n",
       "2       No medal  \n",
       "3           Gold  \n",
       "4       No medal  \n",
       "...          ...  \n",
       "252560  No medal  \n",
       "252561  No medal  \n",
       "252562      Gold  \n",
       "252563    Bronze  \n",
       "252564    Bronze  \n",
       "\n",
       "[252565 rows x 11 columns]"
      ]
     },
     "execution_count": 61,
     "metadata": {},
     "output_type": "execute_result"
    }
   ],
   "source": [
    "# Cargar los datos CSV\n",
    "df = pd.read_csv(\"olympics_dataset.csv\")\n",
    "df"
   ]
  },
  {
   "cell_type": "code",
   "execution_count": 62,
   "metadata": {},
   "outputs": [
    {
     "name": "stdout",
     "output_type": "stream",
     "text": [
      "Primeras filas del dataset:\n",
      "    player_id                   Name Sex            Team  NOC  Year  Season  \\\n",
      "0          0              A Dijiang   M           China  CHN  1992  Summer   \n",
      "1          1               A Lamusi   M           China  CHN  2012  Summer   \n",
      "2          2            Gunnar Aaby   M         Denmark  DEN  1920  Summer   \n",
      "3          3            Edgar Aabye   M  Denmark/Sweden  DEN  1900  Summer   \n",
      "4         26  Cornelia (-strannood)   F     Netherlands  NED  1932  Summer   \n",
      "\n",
      "          City       Sport                         Event     Medal  \n",
      "0    Barcelona  Basketball   Basketball Men's Basketball  No medal  \n",
      "1       London        Judo  Judo Men's Extra-Lightweight  No medal  \n",
      "2    Antwerpen    Football       Football Men's Football  No medal  \n",
      "3        Paris  Tug-Of-War   Tug-Of-War Men's Tug-Of-War      Gold  \n",
      "4  Los Angeles   Athletics  Athletics Women's 100 metres  No medal  \n"
     ]
    }
   ],
   "source": [
    "# 4. Análisis exploratorio de los datos\n",
    "print(\"Primeras filas del dataset:\\n\", df.head())"
   ]
  },
  {
   "cell_type": "code",
   "execution_count": 63,
   "metadata": {},
   "outputs": [
    {
     "name": "stdout",
     "output_type": "stream",
     "text": [
      "Descripción de los datos:\n",
      "           player_id           Year\n",
      "count  2.525650e+05  252565.000000\n",
      "mean   2.305499e+05    1981.743908\n",
      "std    4.289330e+05      32.596548\n",
      "min    0.000000e+00    1896.000000\n",
      "25%    5.713700e+04    1960.000000\n",
      "50%    1.356110e+05    1988.000000\n",
      "75%    2.118590e+05    2008.000000\n",
      "max    9.460001e+06    2024.000000\n"
     ]
    }
   ],
   "source": [
    "print(\"Descripción de los datos:\\n\", df.describe())"
   ]
  },
  {
   "cell_type": "code",
   "execution_count": 64,
   "metadata": {},
   "outputs": [
    {
     "name": "stdout",
     "output_type": "stream",
     "text": [
      "<class 'pandas.core.frame.DataFrame'>\n",
      "RangeIndex: 252565 entries, 0 to 252564\n",
      "Data columns (total 11 columns):\n",
      " #   Column     Non-Null Count   Dtype \n",
      "---  ------     --------------   ----- \n",
      " 0   player_id  252565 non-null  int64 \n",
      " 1   Name       252565 non-null  object\n",
      " 2   Sex        252565 non-null  object\n",
      " 3   Team       252565 non-null  object\n",
      " 4   NOC        252565 non-null  object\n",
      " 5   Year       252565 non-null  int64 \n",
      " 6   Season     252565 non-null  object\n",
      " 7   City       252565 non-null  object\n",
      " 8   Sport      252565 non-null  object\n",
      " 9   Event      252565 non-null  object\n",
      " 10  Medal      252565 non-null  object\n",
      "dtypes: int64(2), object(9)\n",
      "memory usage: 21.2+ MB\n",
      "Información de las columnas:\n",
      " None\n"
     ]
    }
   ],
   "source": [
    "print(\"Información de las columnas:\\n\", df.info())"
   ]
  },
  {
   "cell_type": "code",
   "execution_count": 65,
   "metadata": {},
   "outputs": [
    {
     "name": "stdout",
     "output_type": "stream",
     "text": [
      "Valores faltantes:\n",
      " player_id    0\n",
      "Name         0\n",
      "Sex          0\n",
      "Team         0\n",
      "NOC          0\n",
      "Year         0\n",
      "Season       0\n",
      "City         0\n",
      "Sport        0\n",
      "Event        0\n",
      "Medal        0\n",
      "dtype: int64\n"
     ]
    }
   ],
   "source": [
    "# 5. Verificación de valores faltantes\n",
    "print(\"Valores faltantes:\\n\", df.isnull().sum())"
   ]
  },
  {
   "cell_type": "code",
   "execution_count": 66,
   "metadata": {},
   "outputs": [],
   "source": [
    "# 6. Preparación de los datos (Limpieza y selección de variables)\n",
    "# Supongamos que tenemos la columna 'Medal' como objetivo (target) y otras como características\n",
    "# Vamos a simplificar el análisis enfocándonos en columnas relevantes\n",
    "data_clean = df.dropna()  # Removemos filas con valores nulos, si aplica"
   ]
  },
  {
   "cell_type": "code",
   "execution_count": 67,
   "metadata": {},
   "outputs": [],
   "source": [
    "# Identificar columnas categóricas (cualquier columna con tipo de dato 'object')\n",
    "categorical_columns = data_clean.select_dtypes(include=['object']).columns"
   ]
  },
  {
   "cell_type": "code",
   "execution_count": 68,
   "metadata": {},
   "outputs": [],
   "source": [
    "# Aplicar LabelEncoder a cada columna categórica\n",
    "label_encoders = {}\n",
    "for column in categorical_columns:\n",
    "    le = LabelEncoder()\n",
    "    data_clean[column] = le.fit_transform(data_clean[column])\n",
    "    label_encoders[column] = le  # Guardamos los codificadores por si los necesitamos más tarde"
   ]
  },
  {
   "cell_type": "markdown",
   "metadata": {},
   "source": [
    "## **Aplicación del Algoritmo Decision Trees** ##"
   ]
  },
  {
   "cell_type": "code",
   "execution_count": 69,
   "metadata": {},
   "outputs": [],
   "source": [
    "# Selección de características (para fines de demostración)\n",
    "# Definimos las variables independientes y dependientes\n",
    "X = data_clean.drop('Medal', axis=1)  # Características\n",
    "y = data_clean['Medal']  # Variable objetivo"
   ]
  },
  {
   "cell_type": "code",
   "execution_count": 70,
   "metadata": {},
   "outputs": [],
   "source": [
    "# 7. Dividir los datos en conjunto de entrenamiento y prueba\n",
    "X_train, X_test, y_train, y_test = train_test_split(X, y, test_size=0.3, random_state=42)"
   ]
  },
  {
   "cell_type": "code",
   "execution_count": 71,
   "metadata": {},
   "outputs": [
    {
     "data": {
      "text/html": [
       "<style>#sk-container-id-4 {color: black;background-color: white;}#sk-container-id-4 pre{padding: 0;}#sk-container-id-4 div.sk-toggleable {background-color: white;}#sk-container-id-4 label.sk-toggleable__label {cursor: pointer;display: block;width: 100%;margin-bottom: 0;padding: 0.3em;box-sizing: border-box;text-align: center;}#sk-container-id-4 label.sk-toggleable__label-arrow:before {content: \"▸\";float: left;margin-right: 0.25em;color: #696969;}#sk-container-id-4 label.sk-toggleable__label-arrow:hover:before {color: black;}#sk-container-id-4 div.sk-estimator:hover label.sk-toggleable__label-arrow:before {color: black;}#sk-container-id-4 div.sk-toggleable__content {max-height: 0;max-width: 0;overflow: hidden;text-align: left;background-color: #f0f8ff;}#sk-container-id-4 div.sk-toggleable__content pre {margin: 0.2em;color: black;border-radius: 0.25em;background-color: #f0f8ff;}#sk-container-id-4 input.sk-toggleable__control:checked~div.sk-toggleable__content {max-height: 200px;max-width: 100%;overflow: auto;}#sk-container-id-4 input.sk-toggleable__control:checked~label.sk-toggleable__label-arrow:before {content: \"▾\";}#sk-container-id-4 div.sk-estimator input.sk-toggleable__control:checked~label.sk-toggleable__label {background-color: #d4ebff;}#sk-container-id-4 div.sk-label input.sk-toggleable__control:checked~label.sk-toggleable__label {background-color: #d4ebff;}#sk-container-id-4 input.sk-hidden--visually {border: 0;clip: rect(1px 1px 1px 1px);clip: rect(1px, 1px, 1px, 1px);height: 1px;margin: -1px;overflow: hidden;padding: 0;position: absolute;width: 1px;}#sk-container-id-4 div.sk-estimator {font-family: monospace;background-color: #f0f8ff;border: 1px dotted black;border-radius: 0.25em;box-sizing: border-box;margin-bottom: 0.5em;}#sk-container-id-4 div.sk-estimator:hover {background-color: #d4ebff;}#sk-container-id-4 div.sk-parallel-item::after {content: \"\";width: 100%;border-bottom: 1px solid gray;flex-grow: 1;}#sk-container-id-4 div.sk-label:hover label.sk-toggleable__label {background-color: #d4ebff;}#sk-container-id-4 div.sk-serial::before {content: \"\";position: absolute;border-left: 1px solid gray;box-sizing: border-box;top: 0;bottom: 0;left: 50%;z-index: 0;}#sk-container-id-4 div.sk-serial {display: flex;flex-direction: column;align-items: center;background-color: white;padding-right: 0.2em;padding-left: 0.2em;position: relative;}#sk-container-id-4 div.sk-item {position: relative;z-index: 1;}#sk-container-id-4 div.sk-parallel {display: flex;align-items: stretch;justify-content: center;background-color: white;position: relative;}#sk-container-id-4 div.sk-item::before, #sk-container-id-4 div.sk-parallel-item::before {content: \"\";position: absolute;border-left: 1px solid gray;box-sizing: border-box;top: 0;bottom: 0;left: 50%;z-index: -1;}#sk-container-id-4 div.sk-parallel-item {display: flex;flex-direction: column;z-index: 1;position: relative;background-color: white;}#sk-container-id-4 div.sk-parallel-item:first-child::after {align-self: flex-end;width: 50%;}#sk-container-id-4 div.sk-parallel-item:last-child::after {align-self: flex-start;width: 50%;}#sk-container-id-4 div.sk-parallel-item:only-child::after {width: 0;}#sk-container-id-4 div.sk-dashed-wrapped {border: 1px dashed gray;margin: 0 0.4em 0.5em 0.4em;box-sizing: border-box;padding-bottom: 0.4em;background-color: white;}#sk-container-id-4 div.sk-label label {font-family: monospace;font-weight: bold;display: inline-block;line-height: 1.2em;}#sk-container-id-4 div.sk-label-container {text-align: center;}#sk-container-id-4 div.sk-container {/* jupyter's `normalize.less` sets `[hidden] { display: none; }` but bootstrap.min.css set `[hidden] { display: none !important; }` so we also need the `!important` here to be able to override the default hidden behavior on the sphinx rendered scikit-learn.org. See: https://github.com/scikit-learn/scikit-learn/issues/21755 */display: inline-block !important;position: relative;}#sk-container-id-4 div.sk-text-repr-fallback {display: none;}</style><div id=\"sk-container-id-4\" class=\"sk-top-container\"><div class=\"sk-text-repr-fallback\"><pre>DecisionTreeClassifier(random_state=42)</pre><b>In a Jupyter environment, please rerun this cell to show the HTML representation or trust the notebook. <br />On GitHub, the HTML representation is unable to render, please try loading this page with nbviewer.org.</b></div><div class=\"sk-container\" hidden><div class=\"sk-item\"><div class=\"sk-estimator sk-toggleable\"><input class=\"sk-toggleable__control sk-hidden--visually\" id=\"sk-estimator-id-4\" type=\"checkbox\" checked><label for=\"sk-estimator-id-4\" class=\"sk-toggleable__label sk-toggleable__label-arrow\">DecisionTreeClassifier</label><div class=\"sk-toggleable__content\"><pre>DecisionTreeClassifier(random_state=42)</pre></div></div></div></div></div>"
      ],
      "text/plain": [
       "DecisionTreeClassifier(random_state=42)"
      ]
     },
     "execution_count": 71,
     "metadata": {},
     "output_type": "execute_result"
    }
   ],
   "source": [
    "# 8. Entrenamiento del modelo de Árbol de Decisión\n",
    "clf = DecisionTreeClassifier(random_state=42)\n",
    "clf.fit(X_train, y_train)"
   ]
  },
  {
   "cell_type": "code",
   "execution_count": 72,
   "metadata": {},
   "outputs": [],
   "source": [
    "# 9. Predicciones y evaluación del modelo\n",
    "y_pred = clf.predict(X_test)"
   ]
  },
  {
   "cell_type": "code",
   "execution_count": 73,
   "metadata": {},
   "outputs": [
    {
     "name": "stdout",
     "output_type": "stream",
     "text": [
      "Precisión del modelo: 86.98%\n"
     ]
    }
   ],
   "source": [
    "# 10. Evaluación de métricas\n",
    "accuracy = accuracy_score(y_test, y_pred)\n",
    "print(\"Precisión del modelo: {:.2f}%\".format(accuracy * 100))"
   ]
  },
  {
   "cell_type": "code",
   "execution_count": 74,
   "metadata": {},
   "outputs": [
    {
     "name": "stdout",
     "output_type": "stream",
     "text": [
      "Matriz de Confusión:\n",
      " [[ 2007   181  1486   228]\n",
      " [  195  2432  1044   252]\n",
      " [ 1893  1263 59452  1538]\n",
      " [  218   230  1336  2015]]\n",
      "Reporte de Clasificación:\n",
      "               precision    recall  f1-score   support\n",
      "\n",
      "           0       0.47      0.51      0.49      3902\n",
      "           1       0.59      0.62      0.61      3923\n",
      "           2       0.94      0.93      0.93     64146\n",
      "           3       0.50      0.53      0.51      3799\n",
      "\n",
      "    accuracy                           0.87     75770\n",
      "   macro avg       0.62      0.65      0.64     75770\n",
      "weighted avg       0.87      0.87      0.87     75770\n",
      "\n"
     ]
    }
   ],
   "source": [
    "# Matriz de confusión y reporte de clasificación\n",
    "conf_matrix = confusion_matrix(y_test, y_pred)\n",
    "print(\"Matriz de Confusión:\\n\", conf_matrix)\n",
    "print(\"Reporte de Clasificación:\\n\", classification_report(y_test, y_pred))"
   ]
  },
  {
   "cell_type": "code",
   "execution_count": 76,
   "metadata": {},
   "outputs": [
    {
     "data": {
      "image/png": "[encoded data removed]",
      "text/plain": [
       "<Figure size 800x600 with 2 Axes>"
      ]
     },
     "metadata": {},
     "output_type": "display_data"
    }
   ],
   "source": [
    "# Visualización de la matriz de confusión\n",
    "plt.figure(figsize=(8, 6))\n",
    "sns.heatmap(conf_matrix, annot=True, fmt='d', cmap='Blues')\n",
    "plt.title('Matriz de Confusión - Árbol de Decisión')\n",
    "plt.ylabel('Valor Real')\n",
    "plt.xlabel('Valor Predicho') # Guardamos la matriz de confusión\n",
    "plt.savefig(os.path.join(project_dir, 'confusion_matrix.png'))  # Guardamos la matriz de confusión\n",
    "plt.show()"
   ]
  },
  {
   "cell_type": "code",
   "execution_count": 77,
   "metadata": {},
   "outputs": [],
   "source": [
    "# 11. Guardar resultados en archivos\n",
    "result_file_path = os.path.join(project_dir, 'decision_tree_analysis_report.txt')\n",
    "with open(result_file_path, 'w') as f:\n",
    "    f.write(\"Precisión del modelo: {:.2f}%\\n\".format(accuracy * 100))\n",
    "    f.write(\"Matriz de Confusión:\\n\")\n",
    "    f.write(str(conf_matrix) + \"\\n\")\n",
    "    f.write(\"Reporte de Clasificación:\\n\")\n",
    "    f.write(classification_report(y_test, y_pred))"
   ]
  }
 ],
 "metadata": {
  "kernelspec": {
   "display_name": "base",
   "language": "python",
   "name": "python3"
  },
  "language_info": {
   "codemirror_mode": {
    "name": "ipython",
    "version": 3
   },
   "file_extension": ".py",
   "mimetype": "text/x-python",
   "name": "python",
   "nbconvert_exporter": "python",
   "pygments_lexer": "ipython3",
   "version": "3.11.3"
  }
 },
 "nbformat": 4,
 "nbformat_minor": 2
}
